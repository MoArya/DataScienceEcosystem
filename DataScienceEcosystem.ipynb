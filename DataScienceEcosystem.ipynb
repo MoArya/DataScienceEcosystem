{
  "metadata": {
    "kernelspec": {
      "name": "python",
      "display_name": "Python (Pyodide)",
      "language": "python"
    },
    "language_info": {
      "codemirror_mode": {
        "name": "python",
        "version": 3
      },
      "file_extension": ".py",
      "mimetype": "text/x-python",
      "name": "python",
      "nbconvert_exporter": "python",
      "pygments_lexer": "ipython3",
      "version": "3.8"
    }
  },
  "nbformat_minor": 4,
  "nbformat": 4,
  "cells": [
    {
      "cell_type": "markdown",
      "source": "# Data Science Tools and Ecosystem",
      "metadata": {}
    },
    {
      "cell_type": "markdown",
      "source": "##### In this notebook, Data Science Tools and Ecosystem are summarized.",
      "metadata": {}
    },
    {
      "cell_type": "markdown",
      "source": "**objectives**\n- Popular Data Science Language\n- Most Frequently Used Libraries for Data Science in Python\n- Data Science Tools\n- Create a code cell to multiply and add numbers\n- Create a code cell to convert minutes to hours\n",
      "metadata": {}
    },
    {
      "cell_type": "markdown",
      "source": "###### Some of the popular languages that Data Scientists use are:\n1. Python\r2. \nR3. \r\nSQ4. L\r\nSca5. la\r\nS6. cript\r7. \nJu\n8. SAS\n9. \nMATLA\n10. \r\nTensorFlow (for machine learnin\n11. C++\n12. JavaScript\n13. Go\n14. Ruby\n15. Visual Basicg)isual Basic",
      "metadata": {
        "jp-MarkdownHeadingCollapsed": true
      }
    },
    {
      "cell_type": "markdown",
      "source": "###### Some of the commonly used libraries used by Data Scientists include:\n1. Pandas (Scientifics computing lib.)\n2. NumPy (Scientifics computing lib.)\n3. Matplotlib (Visualization lib.)\n4. Seaborn (Visualization lib.)\n5. Scikit-learn (ML lib.)\n6. Keras (Deep learing)\n7. Tensor Flow (Deep learning)\n8. PyTorch (Deep Learning)\n",
      "metadata": {}
    },
    {
      "cell_type": "markdown",
      "source": "|Data Science Tools|\n|------------------|\n|Jupter Notebook|\n|RStudio|\n|Apache Spark|\n|Apache Zeppelin|\n|Spyder|",
      "metadata": {}
    },
    {
      "cell_type": "markdown",
      "source": "### Below are a few examples of evaluating arithmetic expressions in Python.",
      "metadata": {}
    },
    {
      "cell_type": "markdown",
      "source": "#### In this code cell evaluate the expression (3*4)+5",
      "metadata": {}
    },
    {
      "cell_type": "code",
      "source": "#In this code cell evaluate the expression (3*4)+5.\n3*4+5",
      "metadata": {
        "trusted": true
      },
      "outputs": [
        {
          "execution_count": 2,
          "output_type": "execute_result",
          "data": {
            "text/plain": "17"
          },
          "metadata": {}
        }
      ],
      "execution_count": 2
    },
    {
      "cell_type": "markdown",
      "source": "# This will convert 200 minutes to hours by diving by 60",
      "metadata": {}
    },
    {
      "cell_type": "code",
      "source": "#This will convert 200 minutes to hours by diving by 60\nminutes = 200\nhours = minutes / 60\nprint(hours)\nroundedhours = round(hours, 2)\nprint (f\"{roundedhours} hours with 2 decimal\")",
      "metadata": {
        "trusted": true
      },
      "outputs": [
        {
          "name": "stdout",
          "text": "3.3333333333333335\n3.33 hours with 2 decimal\n",
          "output_type": "stream"
        }
      ],
      "execution_count": 18
    },
    {
      "cell_type": "code",
      "source": "#In this code, // performs integer division, which discards the remainder and keeps only the whole number of hours. \n#The % operator calculates the remainder of the division, which gives you the leftover minutes.\nminutes = 200\nhours = minutes // 60\nremainder_minutes = minutes % 60\nprint(f\"{hours} hours & {remainder_minutes} minutes\")\n# The \"f\" before the quotation marks in the print statement denotes a formatted string literal, also known as an f-string. Introduced in Python 3.6, f-strings offer a concise and convenient way to embed expressions inside string literals for formatting.\n#In the code print(f\"{hours} hours and {remainder_minutes} minutes\"), the f-string is used to insert the values of the variables hours and remainder_minutes into the string. \n#The variables are placed inside curly braces {}. When the string is printed, the variable names inside the curly braces are replaced by their value",
      "metadata": {
        "trusted": true
      },
      "outputs": [
        {
          "name": "stdout",
          "text": "3 hours & 20 minutes\n",
          "output_type": "stream"
        }
      ],
      "execution_count": 17
    },
    {
      "cell_type": "markdown",
      "source": "## Author\nMohammad Hosseini",
      "metadata": {}
    },
    {
      "cell_type": "code",
      "source": "",
      "metadata": {
        "trusted": true
      },
      "outputs": [],
      "execution_count": null
    }
  ]
}